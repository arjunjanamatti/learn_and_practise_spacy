{
 "cells": [
  {
   "cell_type": "code",
   "execution_count": 2,
   "metadata": {
    "ExecuteTime": {
     "end_time": "2020-09-18T09:57:34.060962Z",
     "start_time": "2020-09-18T09:57:27.040448Z"
    }
   },
   "outputs": [],
   "source": [
    "import spacy\n",
    "\n",
    "nlp = spacy.load('en_core_web_lg')"
   ]
  },
  {
   "cell_type": "markdown",
   "metadata": {},
   "source": [
    "* nlp(text) creates a 'Doc' object"
   ]
  },
  {
   "cell_type": "code",
   "execution_count": 3,
   "metadata": {
    "ExecuteTime": {
     "end_time": "2020-09-18T09:57:34.113868Z",
     "start_time": "2020-09-18T09:57:34.074873Z"
    }
   },
   "outputs": [
    {
     "name": "stdout",
     "output_type": "stream",
     "text": [
      "[I am good in python scripting language, I have knowledge of mongodb database, I have 5.5 years of work experience in docker and docker hub]\n"
     ]
    },
    {
     "data": {
      "text/plain": [
       "spacy.tokens.doc.Doc"
      ]
     },
     "execution_count": 3,
     "metadata": {},
     "output_type": "execute_result"
    }
   ],
   "source": [
    "sample_text_list = ['I am good in python scripting language',\n",
    "                    'I have knowledge of mongodb database',\n",
    "                    'I have 5.5 years of work experience in docker and docker hub']\n",
    "\n",
    "doc = [nlp(sentences) for sentences in sample_text_list]\n",
    "\n",
    "print(doc)\n",
    "\n",
    "type(doc[0])"
   ]
  },
  {
   "cell_type": "markdown",
   "metadata": {},
   "source": [
    "* Inside the 'Doc' object, each of the words are tokens"
   ]
  },
  {
   "cell_type": "code",
   "execution_count": 4,
   "metadata": {
    "ExecuteTime": {
     "end_time": "2020-09-18T09:57:34.136870Z",
     "start_time": "2020-09-18T09:57:34.128869Z"
    }
   },
   "outputs": [
    {
     "data": {
      "text/plain": [
       "[spacy.tokens.token.Token,\n",
       " spacy.tokens.token.Token,\n",
       " spacy.tokens.token.Token,\n",
       " spacy.tokens.token.Token,\n",
       " spacy.tokens.token.Token,\n",
       " spacy.tokens.token.Token,\n",
       " spacy.tokens.token.Token,\n",
       " spacy.tokens.token.Token,\n",
       " spacy.tokens.token.Token,\n",
       " spacy.tokens.token.Token,\n",
       " spacy.tokens.token.Token,\n",
       " spacy.tokens.token.Token,\n",
       " spacy.tokens.token.Token,\n",
       " spacy.tokens.token.Token,\n",
       " spacy.tokens.token.Token,\n",
       " spacy.tokens.token.Token,\n",
       " spacy.tokens.token.Token,\n",
       " spacy.tokens.token.Token,\n",
       " spacy.tokens.token.Token,\n",
       " spacy.tokens.token.Token,\n",
       " spacy.tokens.token.Token,\n",
       " spacy.tokens.token.Token,\n",
       " spacy.tokens.token.Token,\n",
       " spacy.tokens.token.Token,\n",
       " spacy.tokens.token.Token]"
      ]
     },
     "execution_count": 4,
     "metadata": {},
     "output_type": "execute_result"
    }
   ],
   "source": [
    "[type(ind_text) for text in doc for ind_text in text]"
   ]
  },
  {
   "cell_type": "markdown",
   "metadata": {},
   "source": [
    "## Rules Matching\n",
    "### Matching exact token either text or numbers"
   ]
  },
  {
   "cell_type": "code",
   "execution_count": 5,
   "metadata": {
    "ExecuteTime": {
     "end_time": "2020-09-18T09:57:34.158868Z",
     "start_time": "2020-09-18T09:57:34.154868Z"
    }
   },
   "outputs": [],
   "source": [
    "from spacy.matcher import Matcher"
   ]
  },
  {
   "cell_type": "markdown",
   "metadata": {},
   "source": [
    "* Check for text python and if python is there in a sentence, print that sentence"
   ]
  },
  {
   "cell_type": "code",
   "execution_count": 6,
   "metadata": {
    "ExecuteTime": {
     "end_time": "2020-09-18T09:57:34.181871Z",
     "start_time": "2020-09-18T09:57:34.175869Z"
    }
   },
   "outputs": [],
   "source": [
    "pattern_for_text = [{'TEXT': 'python'}]\n",
    "matcher_for_text = Matcher(nlp.vocab)"
   ]
  },
  {
   "cell_type": "code",
   "execution_count": 7,
   "metadata": {
    "ExecuteTime": {
     "end_time": "2020-09-18T09:57:34.205907Z",
     "start_time": "2020-09-18T09:57:34.202871Z"
    }
   },
   "outputs": [],
   "source": [
    "pattern_for_numbers = [{'LIKE_NUM': True}]\n",
    "matcher_for_numbers = Matcher(nlp.vocab)"
   ]
  },
  {
   "cell_type": "markdown",
   "metadata": {},
   "source": [
    "In matcher.add method, we add three arguments;\n",
    "* 'first_try' is a name or unique_ID given to the pattern\n",
    "* second argument is for optional callback, here not using it, hence it is __None__\n",
    "* third argument 'pattern', is the pattern we want to search for"
   ]
  },
  {
   "cell_type": "code",
   "execution_count": 8,
   "metadata": {
    "ExecuteTime": {
     "end_time": "2020-09-18T09:57:34.231872Z",
     "start_time": "2020-09-18T09:57:34.226871Z"
    }
   },
   "outputs": [],
   "source": [
    "matcher_for_numbers.add('first_try_num', None, pattern_for_numbers)\n",
    "matcher_for_text.add('first_try_text', None, pattern_for_text)"
   ]
  },
  {
   "cell_type": "code",
   "execution_count": 9,
   "metadata": {
    "ExecuteTime": {
     "end_time": "2020-09-18T09:57:34.258872Z",
     "start_time": "2020-09-18T09:57:34.250877Z"
    }
   },
   "outputs": [
    {
     "name": "stdout",
     "output_type": "stream",
     "text": [
      "I have 5.5 years of work experience in docker and docker hub\n",
      "\n",
      "I am good in python scripting language\n"
     ]
    }
   ],
   "source": [
    "matches_for_numbers = [print(sentences) for sentences in doc if matcher_for_numbers(sentences)]\n",
    "print()\n",
    "matches_for_text = [print(sentences) for sentences in doc if matcher_for_text(sentences)]\n"
   ]
  },
  {
   "cell_type": "markdown",
   "metadata": {
    "ExecuteTime": {
     "end_time": "2020-09-18T04:56:22.529237Z",
     "start_time": "2020-09-18T04:56:22.525238Z"
    }
   },
   "source": [
    "* I want to match for number with text years"
   ]
  },
  {
   "cell_type": "code",
   "execution_count": 10,
   "metadata": {
    "ExecuteTime": {
     "end_time": "2020-09-18T09:57:34.288870Z",
     "start_time": "2020-09-18T09:57:34.280877Z"
    }
   },
   "outputs": [
    {
     "name": "stdout",
     "output_type": "stream",
     "text": [
      "I have 5.5 years of work experience in docker and docker hub\n"
     ]
    }
   ],
   "source": [
    "patter_for_num_with_years = [{'LIKE_NUM': True}, {'TEXT': 'years'}]\n",
    "matcher_for_num_with_years = Matcher(nlp.vocab)\n",
    "matcher_for_num_with_years.add('first_try_patter_for_num_with_years', None, patter_for_num_with_years)\n",
    "\n",
    "matches_for_numbers = [print(sentences) for sentences in doc if matcher_for_num_with_years(sentences)]\n"
   ]
  },
  {
   "cell_type": "markdown",
   "metadata": {
    "ExecuteTime": {
     "end_time": "2020-09-18T10:18:24.723633Z",
     "start_time": "2020-09-18T10:18:24.718646Z"
    }
   },
   "source": [
    "### Apply matcher to a live example"
   ]
  },
  {
   "cell_type": "code",
   "execution_count": 11,
   "metadata": {
    "ExecuteTime": {
     "end_time": "2020-09-18T09:57:35.399870Z",
     "start_time": "2020-09-18T09:57:34.307868Z"
    }
   },
   "outputs": [],
   "source": [
    "from pdfminer.high_level import extract_text\n",
    "\n",
    "raw_text = extract_text('Brochure for Deep Learning and Its Application13.06.2020.pdf')\n",
    "doc_pdf = nlp(text = raw_text)"
   ]
  },
  {
   "cell_type": "markdown",
   "metadata": {
    "ExecuteTime": {
     "end_time": "2020-09-18T10:18:47.639063Z",
     "start_time": "2020-09-18T10:18:47.634078Z"
    }
   },
   "source": [
    "### Parse Indian currency from text"
   ]
  },
  {
   "cell_type": "code",
   "execution_count": 14,
   "metadata": {
    "ExecuteTime": {
     "end_time": "2020-09-18T09:59:57.447083Z",
     "start_time": "2020-09-18T09:59:57.443105Z"
    }
   },
   "outputs": [],
   "source": [
    "patter_for_currency = [{'TEXT': 'Rs', 'IS_PUNCT': True}]"
   ]
  },
  {
   "cell_type": "code",
   "execution_count": 15,
   "metadata": {
    "ExecuteTime": {
     "end_time": "2020-09-18T09:59:57.993822Z",
     "start_time": "2020-09-18T09:59:57.988827Z"
    }
   },
   "outputs": [],
   "source": [
    "matcher_for_currency_0 = Matcher(nlp.vocab)\n",
    "matcher_for_currency_0.add('currency_try_0', None, patter_for_currency)"
   ]
  },
  {
   "cell_type": "code",
   "execution_count": 17,
   "metadata": {
    "ExecuteTime": {
     "end_time": "2020-09-18T10:00:48.733335Z",
     "start_time": "2020-09-18T10:00:46.796237Z"
    }
   },
   "outputs": [
    {
     "data": {
      "text/plain": [
       "[]"
      ]
     },
     "execution_count": 17,
     "metadata": {},
     "output_type": "execute_result"
    }
   ],
   "source": [
    "[token for token in doc_pdf if matcher_for_currency_0(doc_pdf)]"
   ]
  },
  {
   "cell_type": "markdown",
   "metadata": {},
   "source": [
    "* Lets split the text and then go for the currency"
   ]
  },
  {
   "cell_type": "code",
   "execution_count": 37,
   "metadata": {
    "ExecuteTime": {
     "end_time": "2020-09-18T10:07:19.130720Z",
     "start_time": "2020-09-18T10:07:19.106721Z"
    },
    "scrolled": true
   },
   "outputs": [
    {
     "data": {
      "text/plain": [
       "['Faculty',\n",
       " 'Development',\n",
       " 'Program',\n",
       " 'On',\n",
       " 'Deep',\n",
       " 'Learning',\n",
       " '&',\n",
       " 'Its',\n",
       " 'Applications',\n",
       " 'Under',\n",
       " 'the',\n",
       " 'banner',\n",
       " 'of',\n",
       " 'Electronics',\n",
       " 'and',\n",
       " 'ICT',\n",
       " 'academy',\n",
       " 'at',\n",
       " 'National',\n",
       " 'Institute',\n",
       " 'of',\n",
       " 'Technology',\n",
       " 'Patna',\n",
       " '17th',\n",
       " 'June',\n",
       " 'to',\n",
       " '22nd,',\n",
       " '2020',\n",
       " 'Patron',\n",
       " 'Prof.',\n",
       " 'P.',\n",
       " 'K.',\n",
       " 'Jain',\n",
       " 'Director,',\n",
       " 'NIT',\n",
       " 'Patna',\n",
       " 'Coordinators',\n",
       " 'Dr.',\n",
       " 'Mukesh',\n",
       " 'Kumar,',\n",
       " 'NIT',\n",
       " 'Patna',\n",
       " 'Organized',\n",
       " 'by',\n",
       " 'Electronics',\n",
       " 'and',\n",
       " 'ICT',\n",
       " 'Academy,',\n",
       " 'National',\n",
       " 'Institute',\n",
       " 'of',\n",
       " 'Technology',\n",
       " 'Patna,',\n",
       " 'Patna-',\n",
       " '800005.',\n",
       " 'India.',\n",
       " 'www.nitp.ac.in/ict/',\n",
       " 'Supported',\n",
       " 'by',\n",
       " 'Ministry',\n",
       " 'of',\n",
       " 'Electronics',\n",
       " 'and',\n",
       " 'Information',\n",
       " 'Technology,',\n",
       " 'MeitY,',\n",
       " 'Govt.',\n",
       " 'of',\n",
       " 'India.',\n",
       " 'the',\n",
       " 'promoted',\n",
       " 'subsequently',\n",
       " 'its',\n",
       " 'humble',\n",
       " 'beginning',\n",
       " 'erstwhile',\n",
       " 'Bihar',\n",
       " 'College',\n",
       " 'About',\n",
       " 'NIT',\n",
       " 'Patna',\n",
       " 'National',\n",
       " 'Institute',\n",
       " 'of',\n",
       " 'Technology',\n",
       " 'Patna',\n",
       " 'is',\n",
       " 'the',\n",
       " '18th',\n",
       " 'National',\n",
       " 'Institute',\n",
       " 'of',\n",
       " 'Technology',\n",
       " 'created',\n",
       " 'by',\n",
       " 'the',\n",
       " 'Ministry',\n",
       " 'of',\n",
       " 'H.R.D.',\n",
       " 'Government',\n",
       " 'of',\n",
       " 'India',\n",
       " 'after',\n",
       " 'rechristening',\n",
       " 'of',\n",
       " 'Engineering',\n",
       " 'Patna',\n",
       " 'on',\n",
       " '28.01.2004.',\n",
       " 'NIT',\n",
       " 'Patna',\n",
       " 'in',\n",
       " '1886',\n",
       " 'with',\n",
       " 'the',\n",
       " 'marked',\n",
       " 'training',\n",
       " 'school',\n",
       " 'establishment',\n",
       " 'of',\n",
       " 'pleaders',\n",
       " 'survey',\n",
       " 'which',\n",
       " 'was',\n",
       " 'to',\n",
       " 'Bihar',\n",
       " 'College',\n",
       " 'of',\n",
       " 'Engineering',\n",
       " 'Patna',\n",
       " 'in',\n",
       " '1924.',\n",
       " 'This',\n",
       " 'made',\n",
       " 'this',\n",
       " 'institute',\n",
       " 'the',\n",
       " '6th',\n",
       " 'oldest',\n",
       " 'Engineering',\n",
       " 'Institute',\n",
       " 'of',\n",
       " 'India.',\n",
       " 'The',\n",
       " 'Institute',\n",
       " 'is',\n",
       " 'situated',\n",
       " 'on',\n",
       " 'the',\n",
       " 'south',\n",
       " 'bank',\n",
       " 'of',\n",
       " 'holy',\n",
       " 'river',\n",
       " 'Ganges',\n",
       " 'behind',\n",
       " 'Gandhi',\n",
       " 'Ghat',\n",
       " '(where',\n",
       " 'the',\n",
       " 'ash',\n",
       " 'of',\n",
       " 'father',\n",
       " 'of',\n",
       " 'the',\n",
       " 'Nation,',\n",
       " 'Mahatma',\n",
       " 'Gandhi',\n",
       " 'was',\n",
       " 'offered',\n",
       " 'in',\n",
       " 'the',\n",
       " 'river',\n",
       " 'Ganges).',\n",
       " 'The',\n",
       " 'campus',\n",
       " 'has',\n",
       " 'a',\n",
       " 'picturesque',\n",
       " 'view',\n",
       " 'with',\n",
       " 'historic',\n",
       " 'building',\n",
       " 'presenting',\n",
       " 'a',\n",
       " 'spectacle',\n",
       " 'of',\n",
       " 'architecture',\n",
       " 'delight',\n",
       " 'and',\n",
       " 'natural',\n",
       " 'beauty.',\n",
       " 'The',\n",
       " 'Institute',\n",
       " 'imparts',\n",
       " 'high',\n",
       " 'level',\n",
       " 'education',\n",
       " 'in',\n",
       " 'training,',\n",
       " 'science,',\n",
       " 'engineering',\n",
       " 'technology',\n",
       " 'and',\n",
       " 'humanities',\n",
       " 'along',\n",
       " 'with',\n",
       " 'high',\n",
       " 'quality',\n",
       " 'education',\n",
       " 'and',\n",
       " 'values',\n",
       " 'at',\n",
       " 'UG,',\n",
       " 'the',\n",
       " 'Institute',\n",
       " 'PG',\n",
       " 'and',\n",
       " 'Ph.D.',\n",
       " 'offers',\n",
       " 'courses',\n",
       " 'in',\n",
       " 'six',\n",
       " 'major',\n",
       " 'technical',\n",
       " 'disciplines',\n",
       " 'viz.',\n",
       " 'Architecture,',\n",
       " 'Civil',\n",
       " 'Engineering,',\n",
       " 'Computer',\n",
       " 'Science',\n",
       " '&',\n",
       " 'Electrical',\n",
       " 'Engg.,',\n",
       " 'Electronics',\n",
       " '&',\n",
       " 'Communication',\n",
       " 'Engg.',\n",
       " 'And',\n",
       " 'Mechanical',\n",
       " 'Engg.',\n",
       " 'It',\n",
       " 'also',\n",
       " 'consists',\n",
       " 'of',\n",
       " 'well-established',\n",
       " 'departments',\n",
       " 'of',\n",
       " 'Physics,',\n",
       " 'Chemistry,',\n",
       " 'Mathematics',\n",
       " 'and',\n",
       " 'Humanities',\n",
       " 'and',\n",
       " 'Social',\n",
       " 'Sciences.',\n",
       " 'research',\n",
       " 'and',\n",
       " 'development',\n",
       " 'level.',\n",
       " 'At',\n",
       " 'present',\n",
       " 'Engg.,',\n",
       " 'river',\n",
       " 'Electronics',\n",
       " 'and',\n",
       " 'ICT',\n",
       " 'Academy',\n",
       " 'Ministry',\n",
       " 'of',\n",
       " 'Electronics',\n",
       " 'and',\n",
       " 'Information',\n",
       " 'Technology,',\n",
       " 'Government',\n",
       " 'of',\n",
       " 'India',\n",
       " 'has',\n",
       " 'instituted',\n",
       " 'seven',\n",
       " 'Electronics',\n",
       " 'and',\n",
       " 'Information',\n",
       " '&',\n",
       " 'Communications',\n",
       " 'Technology',\n",
       " '(ICT)',\n",
       " 'Academies',\n",
       " 'of',\n",
       " 'which,',\n",
       " 'the',\n",
       " 'academy',\n",
       " 'of',\n",
       " 'NIT',\n",
       " 'Patna',\n",
       " 'is',\n",
       " 'one.',\n",
       " 'The',\n",
       " 'Academy',\n",
       " 'at',\n",
       " 'NIT',\n",
       " 'Patna',\n",
       " 'aims',\n",
       " 'to',\n",
       " 'design',\n",
       " 'and',\n",
       " 'organize',\n",
       " 'basic',\n",
       " 'as',\n",
       " 'well',\n",
       " 'as',\n",
       " 'training',\n",
       " 'programmes',\n",
       " 'in',\n",
       " 'niche',\n",
       " 'areas',\n",
       " 'of',\n",
       " 'electronics',\n",
       " 'and',\n",
       " 'ICT',\n",
       " 'for',\n",
       " 'the',\n",
       " 'development',\n",
       " 'of',\n",
       " 'required',\n",
       " 'knowledge',\n",
       " 'base,',\n",
       " 'skills',\n",
       " 'and',\n",
       " 'tools',\n",
       " 'to',\n",
       " 'equip',\n",
       " 'the',\n",
       " 'teaching',\n",
       " 'community',\n",
       " 'with',\n",
       " 'better',\n",
       " 'knowledge',\n",
       " 'and',\n",
       " 'understanding.',\n",
       " 'specialized',\n",
       " 'Objective',\n",
       " 'and',\n",
       " 'Scope',\n",
       " 'learning',\n",
       " 'Deep',\n",
       " 'is',\n",
       " 'a',\n",
       " 'subset',\n",
       " 'of',\n",
       " 'machine',\n",
       " 'learning',\n",
       " 'in',\n",
       " 'artificial',\n",
       " 'intelligence',\n",
       " '(AI)',\n",
       " 'that',\n",
       " 'has',\n",
       " 'networks',\n",
       " 'capable',\n",
       " 'of',\n",
       " 'learning',\n",
       " 'unsupervised/supervised',\n",
       " 'from',\n",
       " 'data',\n",
       " 'that',\n",
       " 'is',\n",
       " 'unstructured',\n",
       " 'or',\n",
       " 'unlabelled.',\n",
       " 'It',\n",
       " 'imitates',\n",
       " 'the',\n",
       " 'workings',\n",
       " 'of',\n",
       " 'the',\n",
       " 'human',\n",
       " 'brain',\n",
       " 'in',\n",
       " 'processing',\n",
       " 'data',\n",
       " 'and',\n",
       " 'creating',\n",
       " 'patterns',\n",
       " 'for',\n",
       " 'use',\n",
       " 'in',\n",
       " 'decision',\n",
       " 'making.',\n",
       " 'Deep',\n",
       " 'learning',\n",
       " 'is',\n",
       " 'achieving',\n",
       " 'state-of-the-art',\n",
       " 'results',\n",
       " 'across',\n",
       " 'a',\n",
       " 'range',\n",
       " 'of',\n",
       " 'difficult',\n",
       " 'problem',\n",
       " 'domains',\n",
       " 'self-driving',\n",
       " 'cars,',\n",
       " 'Healthcare,',\n",
       " 'computer',\n",
       " 'vision,',\n",
       " 'Automatic',\n",
       " 'Machine',\n",
       " 'Translation,',\n",
       " 'and',\n",
       " 'Finance,',\n",
       " 'etc.',\n",
       " 'like',\n",
       " '•',\n",
       " 'The',\n",
       " 'objective',\n",
       " 'of',\n",
       " 'the',\n",
       " 'FDP',\n",
       " 'is',\n",
       " 'to',\n",
       " 'introduce',\n",
       " 'fundamentals',\n",
       " 'of',\n",
       " 'deep',\n",
       " 'learning',\n",
       " 'with',\n",
       " 'real-time',\n",
       " 'applications',\n",
       " 'in',\n",
       " 'various',\n",
       " 'domain',\n",
       " '•',\n",
       " 'This',\n",
       " 'FDP',\n",
       " 'will',\n",
       " 'be',\n",
       " 'a',\n",
       " 'very',\n",
       " 'useful',\n",
       " 'platform',\n",
       " 'for',\n",
       " 'their',\n",
       " 'researchers',\n",
       " 'to',\n",
       " 'update',\n",
       " 'faculty',\n",
       " 'and',\n",
       " 'knowledge',\n",
       " '•',\n",
       " 'This',\n",
       " 'FDP',\n",
       " 'also',\n",
       " 'focuses',\n",
       " 'on',\n",
       " 'exploring',\n",
       " 'various',\n",
       " 'research',\n",
       " 'opportunities',\n",
       " 'and',\n",
       " 'challenges',\n",
       " 'in',\n",
       " 'the',\n",
       " 'field',\n",
       " 'of',\n",
       " 'Deep',\n",
       " 'learning,',\n",
       " 'and',\n",
       " 'its',\n",
       " 'applications.',\n",
       " '•',\n",
       " 'Learn',\n",
       " 'the',\n",
       " 'various',\n",
       " 'aspects',\n",
       " 'of',\n",
       " 'data',\n",
       " 'handling',\n",
       " 'and',\n",
       " 'how',\n",
       " 'information',\n",
       " 'can',\n",
       " 'be',\n",
       " 'extracted',\n",
       " 'from',\n",
       " 'data',\n",
       " 'and',\n",
       " 'build',\n",
       " 'a',\n",
       " 'deep',\n",
       " 'learning',\n",
       " 'based',\n",
       " 'model.',\n",
       " 'Objectives',\n",
       " 'of',\n",
       " 'the',\n",
       " 'Program',\n",
       " 'The',\n",
       " 'objective',\n",
       " 'of',\n",
       " 'the',\n",
       " 'FDP',\n",
       " 'is',\n",
       " 'to',\n",
       " 'introduce',\n",
       " 'its',\n",
       " 'fundamentals',\n",
       " 'of',\n",
       " 'deep',\n",
       " 'Learning',\n",
       " 'with',\n",
       " 'applications.',\n",
       " 'The',\n",
       " 'program',\n",
       " 'would',\n",
       " 'help',\n",
       " 'the',\n",
       " 'participants',\n",
       " 'to',\n",
       " 'the',\n",
       " 'key',\n",
       " 'concepts',\n",
       " 'behind',\n",
       " 'deep',\n",
       " 'understand',\n",
       " 'learning.',\n",
       " 'Identify',\n",
       " 'the',\n",
       " 'deep',\n",
       " 'learning',\n",
       " 'algorithms',\n",
       " 'which',\n",
       " 'are',\n",
       " 'more',\n",
       " 'appropriate',\n",
       " 'for',\n",
       " 'various',\n",
       " 'types',\n",
       " 'of',\n",
       " 'learning',\n",
       " 'Comprehensive',\n",
       " 'knowledge',\n",
       " 'of',\n",
       " 'various',\n",
       " 'Neural',\n",
       " 'Network',\n",
       " 'architectures',\n",
       " 'such',\n",
       " 'as',\n",
       " 'Convolutional',\n",
       " 'Neural',\n",
       " 'Network,',\n",
       " 'Recurrent',\n",
       " 'Neural',\n",
       " 'Network,',\n",
       " 'Auto',\n",
       " 'encoders.',\n",
       " 'This',\n",
       " 'FDP',\n",
       " 'also',\n",
       " 'focuses',\n",
       " 'on',\n",
       " 'exploring',\n",
       " 'various',\n",
       " 'research',\n",
       " 'opportunities',\n",
       " 'and',\n",
       " 'challenges',\n",
       " 'in',\n",
       " 'the',\n",
       " 'field',\n",
       " 'of',\n",
       " 'deep',\n",
       " 'learning',\n",
       " 'its',\n",
       " 'applications.',\n",
       " 'This',\n",
       " 'FDP',\n",
       " 'will',\n",
       " 'be',\n",
       " 'a',\n",
       " 'very',\n",
       " 'useful',\n",
       " 'platform',\n",
       " 'for',\n",
       " 'their',\n",
       " 'researchers',\n",
       " 'to',\n",
       " 'update',\n",
       " 'faculty',\n",
       " 'and',\n",
       " 'knowledge.',\n",
       " 'Universities',\n",
       " 'and',\n",
       " 'E',\n",
       " 'ngineering',\n",
       " 'colleges',\n",
       " 'all',\n",
       " 'over',\n",
       " 'India,',\n",
       " 'Research',\n",
       " 'scholars',\n",
       " '(PhD',\n",
       " 'only),',\n",
       " 'students',\n",
       " 'and',\n",
       " 'Industry',\n",
       " 'personals,',\n",
       " 'however',\n",
       " 'priority',\n",
       " 'will',\n",
       " 'be',\n",
       " 'given',\n",
       " 'to',\n",
       " 'the',\n",
       " 'faculty',\n",
       " 'members.',\n",
       " 'Topics',\n",
       " 'to',\n",
       " 'be',\n",
       " 'covered',\n",
       " 'Introduction',\n",
       " 'to',\n",
       " 'Deep',\n",
       " 'Learning',\n",
       " 'and',\n",
       " 'Neural',\n",
       " 'Networks',\n",
       " 'Multi-layered',\n",
       " 'Neural',\n",
       " 'Networks',\n",
       " 'Artificial',\n",
       " 'Neural',\n",
       " 'Networks',\n",
       " 'Deep',\n",
       " 'Learning',\n",
       " 'Frameworks',\n",
       " 'and',\n",
       " 'Packages',\n",
       " 'Keras',\n",
       " 'API',\n",
       " 'TFLearn',\n",
       " 'API',\n",
       " 'for',\n",
       " 'TensorFlow',\n",
       " 'DNNs',\n",
       " '(Deep',\n",
       " 'Neural',\n",
       " 'Networks)',\n",
       " 'Deep',\n",
       " 'Neural',\n",
       " 'Net',\n",
       " 'optimization,',\n",
       " 'tuning,',\n",
       " 'interpretability',\n",
       " 'CNNs',\n",
       " '(Convolutional',\n",
       " 'Neural',\n",
       " 'Networks)',\n",
       " 'RNNs',\n",
       " '(Recurrent',\n",
       " 'Neural',\n",
       " 'Networks)',\n",
       " 'GPU',\n",
       " 'in',\n",
       " 'Deep',\n",
       " 'Learning',\n",
       " 'Autoencoders',\n",
       " 'and',\n",
       " 'Restricted',\n",
       " 'Boltzmann',\n",
       " 'Machine',\n",
       " '(RBM)',\n",
       " 'Resource',\n",
       " 'Persons',\n",
       " 'Industry',\n",
       " 'Experts',\n",
       " 'from',\n",
       " 'Eduxlabs,',\n",
       " 'Esoir',\n",
       " 'Business',\n",
       " 'Solution',\n",
       " 'LLP,',\n",
       " 'Gurugram,',\n",
       " 'Haryana,',\n",
       " 'India.',\n",
       " 'One-week',\n",
       " 'FDP',\n",
       " 'includes',\n",
       " 'One',\n",
       " 'week',\n",
       " 'Training',\n",
       " 'will',\n",
       " 'be',\n",
       " 'taken',\n",
       " 'by',\n",
       " 'one',\n",
       " 'Industrial',\n",
       " 'Expert',\n",
       " 'with',\n",
       " 'the',\n",
       " 'experience',\n",
       " 'of',\n",
       " '6-8',\n",
       " 'years',\n",
       " 'in',\n",
       " 'the',\n",
       " 'industry',\n",
       " 'and',\n",
       " 'has',\n",
       " 'delivered',\n",
       " 'more',\n",
       " 'then',\n",
       " '1000+',\n",
       " 'sessions',\n",
       " 'in',\n",
       " 'India',\n",
       " 'and',\n",
       " 'abroad.',\n",
       " 'The',\n",
       " 'training',\n",
       " 'hour',\n",
       " 'is',\n",
       " '5-6',\n",
       " 'hours/',\n",
       " 'each',\n",
       " 'day.',\n",
       " 'Mode',\n",
       " 'of',\n",
       " 'training',\n",
       " 'is',\n",
       " 'Instructor-led',\n",
       " 'live',\n",
       " 'online',\n",
       " '40',\n",
       " 'Hours',\n",
       " 'Instructor-led',\n",
       " 'live',\n",
       " 'online',\n",
       " 'Hands-on',\n",
       " 'based',\n",
       " 'learning',\n",
       " '&',\n",
       " 'Interactive',\n",
       " 'Query',\n",
       " 'Session.',\n",
       " 'Soft',\n",
       " 'copy',\n",
       " 'of',\n",
       " 'study',\n",
       " 'material,',\n",
       " 'Training',\n",
       " \"PPT's\",\n",
       " '&',\n",
       " 'Participants',\n",
       " 'will',\n",
       " 'get',\n",
       " 'recorded',\n",
       " 'sessions',\n",
       " 'after',\n",
       " 'Projects',\n",
       " 'code',\n",
       " 'completion',\n",
       " 'of',\n",
       " 'training.',\n",
       " 'Who',\n",
       " 'Can',\n",
       " 'Participate',\n",
       " 'Faculty',\n",
       " 'members',\n",
       " 'of',\n",
       " 'UGC/AICTE',\n",
       " 'recognized',\n",
       " 'Registration',\n",
       " 'Fee',\n",
       " 'Faculty/',\n",
       " 'Research',\n",
       " 'Scholar',\n",
       " '(PhD):',\n",
       " 'Rs.',\n",
       " '500/-',\n",
       " 'Students:',\n",
       " 'Rs.',\n",
       " '500/-,',\n",
       " 'Industry',\n",
       " 'and',\n",
       " 'others:',\n",
       " 'Rs.',\n",
       " '1000/-',\n",
       " 'Registration',\n",
       " 'Process',\n",
       " '1.',\n",
       " 'Registration',\n",
       " 'fee',\n",
       " 'will',\n",
       " 'be',\n",
       " 'paid',\n",
       " 'though',\n",
       " 'online',\n",
       " 'mode,',\n",
       " 'the',\n",
       " 'account',\n",
       " 'details',\n",
       " 'for',\n",
       " 'this',\n",
       " 'purpose',\n",
       " 'is',\n",
       " 'Account',\n",
       " 'Name:',\n",
       " 'NIT',\n",
       " 'Patna',\n",
       " 'Account',\n",
       " 'No.:',\n",
       " '50380476798',\n",
       " 'IFSC',\n",
       " 'Code:',\n",
       " 'ALLA0212286',\n",
       " '2.',\n",
       " 'Link',\n",
       " 'for',\n",
       " 'registration:',\n",
       " 'https://forms.gle/zJkAGnega2VajhUF7',\n",
       " '3.',\n",
       " 'The',\n",
       " 'brochure',\n",
       " 'of',\n",
       " 'from',\n",
       " 'the',\n",
       " 'program',\n",
       " 'may',\n",
       " 'be',\n",
       " 'Institute',\n",
       " 'website',\n",
       " 'the',\n",
       " 'downloaded',\n",
       " 'www.nitp.ac.in',\n",
       " 'and',\n",
       " 'http://www.nitp.ac.in/ict/',\n",
       " '4.',\n",
       " 'Only',\n",
       " 'Online',\n",
       " 'registration',\n",
       " 'will',\n",
       " 'be',\n",
       " 'accepted',\n",
       " 'and',\n",
       " 'Last',\n",
       " 'date',\n",
       " 'of',\n",
       " 'registration:',\n",
       " '16.06.2020',\n",
       " '(till',\n",
       " '14.00',\n",
       " 'PM)',\n",
       " '5.',\n",
       " 'Before',\n",
       " 'making',\n",
       " 'the',\n",
       " '(online)',\n",
       " 'payment,',\n",
       " 'please',\n",
       " 'check',\n",
       " 'the',\n",
       " 'availability',\n",
       " 'of',\n",
       " 'link',\n",
       " 'for',\n",
       " 'Registration',\n",
       " 'and',\n",
       " 'after',\n",
       " 'making',\n",
       " 'the',\n",
       " 'payment,',\n",
       " 'complete',\n",
       " 'the',\n",
       " 'registration',\n",
       " 'process',\n",
       " 'as',\n",
       " 'soon',\n",
       " 'as',\n",
       " 'possible.',\n",
       " 'Total',\n",
       " '-100',\n",
       " 'seats',\n",
       " 'and',\n",
       " 'the',\n",
       " 'selection',\n",
       " 'will',\n",
       " 'be',\n",
       " 'done',\n",
       " 'on',\n",
       " 'first-cum-first-serve',\n",
       " 'basis.',\n",
       " 'PDF',\n",
       " 'file',\n",
       " 'of',\n",
       " 'online',\n",
       " 'filled',\n",
       " 'registration',\n",
       " 'form',\n",
       " 'with',\n",
       " 'proof',\n",
       " 'of',\n",
       " 'registration',\n",
       " 'fee',\n",
       " 'paid',\n",
       " 'will',\n",
       " 'be',\n",
       " 'sent',\n",
       " 'through',\n",
       " 'email',\n",
       " 'to',\n",
       " 'Dr.',\n",
       " 'Mukesh',\n",
       " 'Kumar',\n",
       " '(email:',\n",
       " 'mukesh.kumar@nitp.ac.in)',\n",
       " 'Faculty',\n",
       " 'Development',\n",
       " 'Program',\n",
       " 'on',\n",
       " 'Deep',\n",
       " 'Learning',\n",
       " '&',\n",
       " 'Its',\n",
       " 'Applications',\n",
       " '17th',\n",
       " 'to',\n",
       " '22nd',\n",
       " ',',\n",
       " 'June,',\n",
       " '2020',\n",
       " 'REGISTRATION',\n",
       " 'FORM',\n",
       " '1.',\n",
       " 'Name',\n",
       " '(block',\n",
       " 'letter):',\n",
       " '…………………………………....',\n",
       " '2.',\n",
       " 'Gender:',\n",
       " '..........................................................................',\n",
       " '3.',\n",
       " 'Caste:……………………………………………………',\n",
       " '4.',\n",
       " 'DOB:……………………………………………………',\n",
       " '5.',\n",
       " 'Designation',\n",
       " '……………………………………………..',\n",
       " '6.',\n",
       " 'Organization:',\n",
       " '…………………………………………..',\n",
       " '7.',\n",
       " 'Address',\n",
       " 'for',\n",
       " 'communication:',\n",
       " '………………………….',\n",
       " '………………………………………………………',\n",
       " '………………………………………………………',\n",
       " 'Pin',\n",
       " 'code:',\n",
       " '………………',\n",
       " 'Ph.',\n",
       " 'No.:',\n",
       " '………………….',\n",
       " 'E-mail:',\n",
       " '……………………………………………….',\n",
       " '8.',\n",
       " 'Highest',\n",
       " 'Academic',\n",
       " 'Qualification:',\n",
       " '…………………….',\n",
       " '9.',\n",
       " 'Specialization:',\n",
       " '…………………………………………',\n",
       " '10.',\n",
       " 'Experience',\n",
       " '(in',\n",
       " 'years):',\n",
       " '(a)',\n",
       " 'Teaching:',\n",
       " '……………',\n",
       " '(b)',\n",
       " 'Industrial:',\n",
       " '……………',\n",
       " '11.',\n",
       " 'Aadhar',\n",
       " 'No:………………………………………….',\n",
       " 'DECLARATION',\n",
       " 'I',\n",
       " 'do',\n",
       " 'hereby',\n",
       " 'agree',\n",
       " 'to',\n",
       " 'abide',\n",
       " 'by',\n",
       " 'the',\n",
       " 'rules',\n",
       " ...]"
      ]
     },
     "execution_count": 37,
     "metadata": {},
     "output_type": "execute_result"
    }
   ],
   "source": [
    "raw_text_split = (raw_text.split())\n",
    "raw_text_split"
   ]
  },
  {
   "cell_type": "code",
   "execution_count": 25,
   "metadata": {
    "ExecuteTime": {
     "end_time": "2020-09-18T10:04:13.115962Z",
     "start_time": "2020-09-18T10:04:13.106850Z"
    }
   },
   "outputs": [
    {
     "data": {
      "text/plain": [
       "['Faculty Development Program  On Deep Learning & Its Applications   Under the banner of   Electronics and ICT academy at National Institute of Technology Patna   17th June to 22nd, 2020                               Patron  Prof',\n",
       " '  P',\n",
       " ' K',\n",
       " ' Jain Director,  NIT Patna Coordinators Dr',\n",
       " ' Mukesh Kumar, NIT Patna   Organized by Electronics  and ICT Academy,  National  Institute  of Technology  Patna, Patna- 800005',\n",
       " '  India',\n",
       " ' www',\n",
       " 'nitp',\n",
       " 'ac',\n",
       " 'in/ict/   Supported by Ministry  of Electronics  and Information  Technology, MeitY,  Govt',\n",
       " '  of India',\n",
       " '    the promoted subsequently its  humble  beginning erstwhile  Bihar  College About NIT Patna National  Institute  of  Technology  Patna  is  the  18th National  Institute  of  Technology  created  by  the Ministry  of  H',\n",
       " 'R',\n",
       " 'D',\n",
       " '  Government  of  India  after rechristening of Engineering  Patna  on  28',\n",
       " '01',\n",
       " '2004',\n",
       " '  NIT  Patna in  1886  with  the marked training  school establishment  of  pleaders  survey which  was to  Bihar College  of  Engineering  Patna  in  1924',\n",
       " '  This  made this  institute  the  6th  oldest  Engineering  Institute  of India',\n",
       " '  The  Institute  is  situated  on the  south  bank  of holy  river  Ganges  behind  Gandhi  Ghat  (where  the ash  of  father  of  the  Nation,  Mahatma  Gandhi  was offered  in  the  river  Ganges)',\n",
       " '  The  campus  has  a picturesque view  with  historic  building presenting  a  spectacle  of  architecture  delight  and natural  beauty',\n",
       " '  The  Institute imparts  high  level education in training, science,  engineering technology  and  humanities along  with  high  quality  education  and  values  at  UG, the  Institute PG  and  Ph',\n",
       " 'D',\n",
       " ' offers  courses  in  six  major  technical  disciplines  viz',\n",
       " ' Architecture,  Civil  Engineering,  Computer  Science & Electrical  Engg',\n",
       " ',  Electronics  & Communication  Engg',\n",
       " '  And  Mechanical  Engg',\n",
       " '  It also  consists  of  well-established  departments  of Physics,  Chemistry,  Mathematics  and  Humanities and Social  Sciences',\n",
       " ' research  and  development level',\n",
       " '  At  present Engg',\n",
       " ', river Electronics and ICT Academy Ministry  of  Electronics  and  Information  Technology, Government  of  India  has  instituted  seven  Electronics and Information  &  Communications  Technology (ICT)  Academies of which, the academy of NIT Patna is  one',\n",
       " '  The  Academy at NIT Patna aims to design and organize  basic  as  well  as training programmes  in  niche  areas  of  electronics  and  ICT  for the  development  of  required  knowledge  base,  skills and  tools  to  equip  the  teaching  community with  better knowledge  and understanding',\n",
       " '  specialized Objective and Scope learning Deep is  a  subset  of machine  learning in artificial  intelligence  (AI)  that  has  networks  capable of  learning  unsupervised/supervised  from  data  that  is unstructured  or  unlabelled',\n",
       " '  It  imitates  the  workings  of the  human  brain  in  processing  data  and  creating patterns  for  use  in  decision  making',\n",
       " '  Deep  learning  is achieving  state-of-the-art  results  across  a  range  of difficult  problem  domains self-driving  cars, Healthcare,  computer  vision,  Automatic  Machine Translation,  and Finance,  etc',\n",
       " ' like •  The  objective  of  the  FDP  is  to  introduce fundamentals  of  deep  learning  with  real-time applications  in various  domain •  This  FDP  will  be  a  very  useful  platform  for their researchers to  update faculty  and knowledge •  This  FDP  also  focuses  on  exploring  various research  opportunities  and  challenges  in  the field  of Deep learning,  and its applications',\n",
       " ' •  Learn  the  various  aspects  of data handling and how  information  can  be  extracted  from  data and build  a deep learning  based model',\n",
       " '    Objectives of the Program   The  objective  of  the  FDP  is  to  introduce its fundamentals  of  deep  Learning  with applications',\n",
       " '   The  program  would  help  the  participants  to the  key  concepts  behind  deep understand learning',\n",
       " '     Identify  the  deep  learning  algorithms  which are  more  appropriate  for  various  types  of learning   Comprehensive  knowledge  of  various  Neural Network  architectures  such  as  Convolutional Neural  Network,  Recurrent  Neural  Network, Auto encoders',\n",
       " '   This  FDP  also  focuses  on  exploring  various research  opportunities  and  challenges  in  the field  of deep learning  its applications',\n",
       " ' \\x0c  This  FDP  will  be  a  very  useful  platform  for their researchers to  update faculty  and knowledge',\n",
       " ' Universities  and  E ngineering  colleges  all  over India,  Research  scholars  (PhD  only),  students  and Industry  personals,  however  priority  will  be  given to the faculty  members',\n",
       " ' Topics to be covered  Introduction  to  Deep  Learning  and  Neural Networks   Multi-layered  Neural Networks   Artificial  Neural Networks   Deep Learning  Frameworks  and Packages   Keras API   TFLearn API for TensorFlow   DNNs (Deep Neural Networks)   Deep  Neural  Net optimization, tuning, interpretability   CNNs (Convolutional  Neural  Networks)   RNNs (Recurrent Neural  Networks)   GPU in  Deep Learning   Autoencoders and  Restricted  Boltzmann Machine  (RBM)  Resource Persons Industry  Experts  from  Eduxlabs,  Esoir  Business Solution LLP, Gurugram,  Haryana,  India',\n",
       " '  One-week FDP includes One  week  Training  will  be  taken  by  one  Industrial Expert  with  the  experience  of  6-8 years in the industry and  has  delivered  more  then  1000+  sessions  in  India and  abroad',\n",
       " '  The  training  hour  is  5-6  hours/  each  day',\n",
       " ' Mode of training  is Instructor-led  live  online    40  Hours  Instructor-led live online Hands-on based learning & Interactive Query Session',\n",
       " \"   Soft  copy  of   study  material,  Training  PPT's  &   Participants  will  get recorded sessions  after Projects code  completion  of training\",\n",
       " ' Who Can Participate Faculty  members of  UGC/AICTE recognized  Registration Fee    Faculty/  Research  Scholar  (PhD): Rs',\n",
       " ' 500/-   Students:   Rs',\n",
       " '  500/-,    Industry  and  others: Rs',\n",
       " ' 1000/- Registration Process  1',\n",
       " '  Registration  fee  will  be  paid  though  online mode, the account details for this purpose is   Account Name: NIT Patna Account No',\n",
       " ': 50380476798 IFSC Code: ALLA0212286  2',\n",
       " '  Link for registration: https://forms',\n",
       " 'gle/zJkAGnega2VajhUF7 3',\n",
       " '  The  brochure  of from the  program  may  be Institute  website the downloaded www',\n",
       " 'nitp',\n",
       " 'ac',\n",
       " 'in  and http://www',\n",
       " 'nitp',\n",
       " 'ac',\n",
       " 'in/ict/ 4',\n",
       " '  Only  Online  registration  will  be  accepted  and Last  date  of  registration:  16',\n",
       " '06',\n",
       " '2020  (till 14',\n",
       " '00 PM)  5',\n",
       " '  Before  making  the  (online)  payment,  please  check the  availability  of  link  for  Registration  and  after making  the  payment,  complete  the  registration process as soon as possible',\n",
       " '       Total  -100  seats and the selection will be done on first-cum-first-serve  basis',\n",
       " '  PDF  file  of  online  filled registration  form  with  proof  of  registration  fee  paid will  be  sent  through  email  to  Dr',\n",
       " '  Mukesh  Kumar (email: mukesh',\n",
       " 'kumar@nitp',\n",
       " 'ac',\n",
       " 'in)   Faculty Development  Program on Deep Learning & Its Applications  17th to 22nd , June, 2020  REGISTRATION  FORM 1',\n",
       " ' Name (block letter): …………………………………',\n",
       " '',\n",
       " '',\n",
       " '',\n",
       " ' 2',\n",
       " ' Gender: ',\n",
       " '',\n",
       " '',\n",
       " '',\n",
       " '',\n",
       " '',\n",
       " '',\n",
       " '',\n",
       " '',\n",
       " '',\n",
       " '',\n",
       " '',\n",
       " '',\n",
       " '',\n",
       " '',\n",
       " '',\n",
       " '',\n",
       " '',\n",
       " '',\n",
       " '',\n",
       " '',\n",
       " '',\n",
       " '',\n",
       " '',\n",
       " '',\n",
       " '',\n",
       " '',\n",
       " '',\n",
       " '',\n",
       " '',\n",
       " '',\n",
       " '',\n",
       " '',\n",
       " '',\n",
       " '',\n",
       " '',\n",
       " '',\n",
       " '',\n",
       " '',\n",
       " '',\n",
       " '',\n",
       " '',\n",
       " '',\n",
       " '',\n",
       " '',\n",
       " '',\n",
       " '',\n",
       " '',\n",
       " '',\n",
       " '',\n",
       " '',\n",
       " '',\n",
       " '',\n",
       " '',\n",
       " '',\n",
       " '',\n",
       " '',\n",
       " '',\n",
       " '',\n",
       " '',\n",
       " '',\n",
       " '',\n",
       " '',\n",
       " '',\n",
       " '',\n",
       " '',\n",
       " '',\n",
       " '',\n",
       " '',\n",
       " '',\n",
       " '',\n",
       " '',\n",
       " '',\n",
       " '',\n",
       " ' 3',\n",
       " ' Caste:…………………………………………………… 4',\n",
       " ' DOB:…………………………………………………… 5',\n",
       " ' Designation ……………………………………………',\n",
       " '',\n",
       " ' 6',\n",
       " ' Organization:  …………………………………………',\n",
       " '',\n",
       " ' 7',\n",
       " ' Address for communication: …………………………',\n",
       " ' ……………………………………………………… ……………………………………………………… Pin code: ………………   Ph',\n",
       " ' No',\n",
       " ': …………………',\n",
       " '  E-mail:  ………………………………………………',\n",
       " ' 8',\n",
       " ' Highest  Academic Qualification:  ……………………',\n",
       " ' 9',\n",
       " ' Specialization:  ………………………………………… 10',\n",
       " ' Experience (in years):  (a) Teaching: ……………  (b) Industrial: …………… 11',\n",
       " ' Aadhar No:…………………………………………',\n",
       " '  DECLARATION    I do hereby agree to abide by the rules and regulations of the FDP',\n",
       " '    Place: ……………………',\n",
       " '   Date:……………',\n",
       " '',\n",
       " '………',\n",
       " '',\n",
       " '                                                 ………………………………',\n",
       " '                                               Signature of the Applicant \\x0c']"
      ]
     },
     "execution_count": 25,
     "metadata": {},
     "output_type": "execute_result"
    }
   ],
   "source": [
    "raw_text_split_without_n = [] \n",
    "for sub in raw_text_split: \n",
    "    raw_text_split_without_n.append(sub.replace(\"\\n\", \"\")) \n",
    "raw_text_split_without_n"
   ]
  },
  {
   "cell_type": "code",
   "execution_count": 30,
   "metadata": {
    "ExecuteTime": {
     "end_time": "2020-09-18T10:06:02.554867Z",
     "start_time": "2020-09-18T10:06:01.751616Z"
    }
   },
   "outputs": [],
   "source": [
    "doc_pdf = [nlp(sentences) for sentences in raw_text_split_without_n]"
   ]
  },
  {
   "cell_type": "code",
   "execution_count": 34,
   "metadata": {
    "ExecuteTime": {
     "end_time": "2020-09-18T10:06:17.479072Z",
     "start_time": "2020-09-18T10:06:17.475072Z"
    }
   },
   "outputs": [],
   "source": [
    "patter_for_currency = [{'TEXT': 'Rs'}]"
   ]
  },
  {
   "cell_type": "code",
   "execution_count": 35,
   "metadata": {
    "ExecuteTime": {
     "end_time": "2020-09-18T10:06:18.066941Z",
     "start_time": "2020-09-18T10:06:18.062846Z"
    }
   },
   "outputs": [],
   "source": [
    "matcher_for_currency_0 = Matcher(nlp.vocab)\n",
    "matcher_for_currency_0.add('currency_try_0', None, patter_for_currency)"
   ]
  },
  {
   "cell_type": "code",
   "execution_count": 38,
   "metadata": {
    "ExecuteTime": {
     "end_time": "2020-09-18T10:08:48.762131Z",
     "start_time": "2020-09-18T10:08:48.752132Z"
    }
   },
   "outputs": [
    {
     "name": "stdout",
     "output_type": "stream",
     "text": [
      "   Soft  copy  of   study  material,  Training  PPT's  &   Participants  will  get recorded sessions  after Projects code  completion  of training  Who Can Participate Faculty  members of  UGC/AICTE recognized  Registration Fee    Faculty/  Research  Scholar  (PhD): Rs  500/-   Students:   Rs\n",
      " Who Can Participate Faculty  members of  UGC/AICTE recognized  Registration Fee    Faculty/  Research  Scholar  (PhD): Rs  500/-   Students:   Rs   500/-,    Industry  and  others: Rs\n",
      " 500/-   Students:   Rs   500/-,    Industry  and  others: Rs  1000/- Registration Process  1\n"
     ]
    },
    {
     "data": {
      "text/plain": [
       "[None, None, None]"
      ]
     },
     "execution_count": 38,
     "metadata": {},
     "output_type": "execute_result"
    }
   ],
   "source": [
    "[print(doc_pdf[index - 1], doc_pdf[index], doc_pdf[index + 1]) \n",
    " for index, sentences in enumerate(doc_pdf) if matcher_for_currency_0(sentences)]"
   ]
  },
  {
   "cell_type": "code",
   "execution_count": 39,
   "metadata": {
    "ExecuteTime": {
     "end_time": "2020-09-18T10:11:53.304728Z",
     "start_time": "2020-09-18T10:11:53.247774Z"
    }
   },
   "outputs": [],
   "source": [
    "import PyPDF2"
   ]
  },
  {
   "cell_type": "code",
   "execution_count": 40,
   "metadata": {
    "ExecuteTime": {
     "end_time": "2020-09-18T10:13:44.047786Z",
     "start_time": "2020-09-18T10:13:44.043786Z"
    }
   },
   "outputs": [],
   "source": [
    "pdfFileObj = open(file = 'Brochure for Deep Learning and Its Application13.06.2020.pdf', \n",
    "                  mode = 'rb')"
   ]
  },
  {
   "cell_type": "code",
   "execution_count": 41,
   "metadata": {
    "ExecuteTime": {
     "end_time": "2020-09-18T10:14:10.501620Z",
     "start_time": "2020-09-18T10:14:10.489619Z"
    }
   },
   "outputs": [
    {
     "data": {
      "text/plain": [
       "<PyPDF2.pdf.PdfFileReader at 0x2d5ce261cf8>"
      ]
     },
     "execution_count": 41,
     "metadata": {},
     "output_type": "execute_result"
    }
   ],
   "source": [
    "pdfReader = PyPDF2.PdfFileReader(stream = pdfFileObj)"
   ]
  },
  {
   "cell_type": "code",
   "execution_count": 42,
   "metadata": {
    "ExecuteTime": {
     "end_time": "2020-09-18T10:14:30.760657Z",
     "start_time": "2020-09-18T10:14:30.755729Z"
    }
   },
   "outputs": [
    {
     "data": {
      "text/plain": [
       "2"
      ]
     },
     "execution_count": 42,
     "metadata": {},
     "output_type": "execute_result"
    }
   ],
   "source": [
    "pdfReader.numPages"
   ]
  },
  {
   "cell_type": "code",
   "execution_count": 49,
   "metadata": {
    "ExecuteTime": {
     "end_time": "2020-09-18T10:19:56.638233Z",
     "start_time": "2020-09-18T10:19:56.455136Z"
    }
   },
   "outputs": [],
   "source": [
    "new_text = (pdfReader.getPage(1)).extractText()\n",
    "doc_new_text = nlp(new_text)"
   ]
  },
  {
   "cell_type": "code",
   "execution_count": 54,
   "metadata": {
    "ExecuteTime": {
     "end_time": "2020-09-18T10:22:22.451775Z",
     "start_time": "2020-09-18T10:22:22.445772Z"
    }
   },
   "outputs": [],
   "source": [
    "patter_for_currency_1 = [{'TEXT': 'Rs'}, {'IS_PUNCT':True}]\n",
    "matcher_for_currency_1 = Matcher(nlp.vocab)\n",
    "matcher_for_currency_1.add('currency_try_1', None, patter_for_currency_1)"
   ]
  },
  {
   "cell_type": "code",
   "execution_count": 63,
   "metadata": {
    "ExecuteTime": {
     "end_time": "2020-09-18T10:26:16.387129Z",
     "start_time": "2020-09-18T10:26:16.380129Z"
    }
   },
   "outputs": [
    {
     "data": {
      "text/plain": [
       "[(2657943343601561610, 331, 333),\n",
       " (2657943343601561610, 339, 341),\n",
       " (2657943343601561610, 351, 353)]"
      ]
     },
     "execution_count": 63,
     "metadata": {},
     "output_type": "execute_result"
    }
   ],
   "source": [
    "matches = matcher_for_currency_1(doc_new_text)\n",
    "matches"
   ]
  },
  {
   "cell_type": "code",
   "execution_count": 78,
   "metadata": {
    "ExecuteTime": {
     "end_time": "2020-09-18T10:35:47.879446Z",
     "start_time": "2020-09-18T10:35:47.872452Z"
    }
   },
   "outputs": [
    {
     "name": "stdout",
     "output_type": "stream",
     "text": [
      "Currency:  Rs. \n",
      "500/-\n",
      "Currency:  Rs. \n",
      " 500/-\n",
      "Currency:  Rs. 1000/\n",
      "\n"
     ]
    }
   ],
   "source": [
    "for k in matches:\n",
    "    a,b,c = k\n",
    "    print('Currency: ', doc_new_text[b:c], doc_new_text[b+2 :c+2])"
   ]
  },
  {
   "cell_type": "code",
   "execution_count": null,
   "metadata": {},
   "outputs": [],
   "source": []
  }
 ],
 "metadata": {
  "kernelspec": {
   "display_name": "Python 3",
   "language": "python",
   "name": "python3"
  },
  "language_info": {
   "codemirror_mode": {
    "name": "ipython",
    "version": 3
   },
   "file_extension": ".py",
   "mimetype": "text/x-python",
   "name": "python",
   "nbconvert_exporter": "python",
   "pygments_lexer": "ipython3",
   "version": "3.6.10"
  },
  "varInspector": {
   "cols": {
    "lenName": 16,
    "lenType": 16,
    "lenVar": 40
   },
   "kernels_config": {
    "python": {
     "delete_cmd_postfix": "",
     "delete_cmd_prefix": "del ",
     "library": "var_list.py",
     "varRefreshCmd": "print(var_dic_list())"
    },
    "r": {
     "delete_cmd_postfix": ") ",
     "delete_cmd_prefix": "rm(",
     "library": "var_list.r",
     "varRefreshCmd": "cat(var_dic_list()) "
    }
   },
   "types_to_exclude": [
    "module",
    "function",
    "builtin_function_or_method",
    "instance",
    "_Feature"
   ],
   "window_display": false
  }
 },
 "nbformat": 4,
 "nbformat_minor": 4
}
